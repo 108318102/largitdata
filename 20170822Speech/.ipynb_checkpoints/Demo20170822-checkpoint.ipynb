{
 "cells": [
  {
   "cell_type": "markdown",
   "metadata": {},
   "source": [
    "## 網路爬蟲範例"
   ]
  },
  {
   "cell_type": "code",
   "execution_count": 11,
   "metadata": {
    "collapsed": false
   },
   "outputs": [
    {
     "name": "stdout",
     "output_type": "stream",
     "text": [
      "曹路户型精装修朝南急售!!! 248\n",
      "享受宁静的下午 如果再相遇 我一定会记得你 业主买好浅水湾 910\n",
      "精装83平 155万 婚房装修 机不可失! 155\n",
      "海汇清波苑 65平123万 精装全配 小户型 大生活 125\n",
      "苏州河景观房,半岛社区,环境绿化好,房东置换浅水湾复式房急售 950\n",
      "新出房源!房东买好浅水湾凯悦名城降60万急售!南北通全明户型 605\n",
      "翠湖御苑(挑�{7.2大复式)(带前后240平大花园)真实照片 4300\n",
      "海尚东苑正气一房245万 复旦 楼层好 房东诚心出售 245\n",
      "徐家汇北面淮海路 交通大学隔壁 名人故居地段 闹中取静 2050\n",
      "苏河湾塔尖住宅+陆家嘴全景尽在脚底,云顶住宅享受神仙般的日子 3250\n",
      "独栋别墅,仅需300万送200平花园,送大露台,自带人工湖 350\n",
      "又少了20万 8号线 南北通透 精装修 家具家电全送 急售 298\n",
      "低于市场价30万 置换急售 豪华装修 电梯两房 首付多价格可谈! 310\n",
      "徐家汇,电梯双南两房,高区视野,一览无余,看房方便。 795\n",
      "新挂牌 急降15万 小两房 精装修 可做阁楼 一梯两户 近 205\n",
      "徐汇,位置,精装南北通透,全南户型,看中可谈,急售! 570\n",
      "徐汇,高区景观,全新装修,铂金地段,房东置换急售, 960\n",
      "位置 大两房 全南户型,出门3.4.11号,送固定车位 500\n",
      "小高层带电梯,南北通两房,婚房装修,首付五成降20万,送车位 370\n",
      "5楼+电梯房+采光好+大1房+精装+宝龙广场+彭镇外国语 150\n",
      "使用300平+联排别墅+边套+上海东站+送阁楼+送地下室+送80平花园 750\n",
      "6楼+带阁楼+两房+南北通透+纯毛坯+近宝龙广场+临港外国语学 180\n",
      "13楼+大三房+采光+精装修+环境优美+物业好+宝龙广场 260\n",
      "5楼+120平+大三房+南北通透+采光好+精装修+看房方便 188\n",
      "附5平米两个天井 附属 华夏西校 近 268\n",
      "房东因工作变动 直降45万急售 前年精装修 送车位 450\n",
      "秋月二期一梯两户 两南一北板式三房 70万豪装全送,全天采光 890\n",
      "小区景观复式房,送产权车位,高区景观,低于市场价,! 630\n",
      "上海后花园 启东高品质小区 现房5800 19号延伸线 63\n",
      "首付二十万,可用上海公积金!能租一千五,海景度假养老就在恒大 76\n"
     ]
    }
   ],
   "source": [
    "import requests\n",
    "from bs4 import BeautifulSoup \n",
    "res = requests.get('http://esf.sh.fang.com/')\n",
    "res.encoding = 'GB2312'\n",
    "soup = BeautifulSoup(res.text, 'html.parser')\n",
    "for house in soup.select('.houseList .info.rel'):\n",
    "    title = house.select('a')[0].text.strip()\n",
    "    price = house.select('.price')[0].text.strip()\n",
    "    print(title, price)"
   ]
  }
 ],
 "metadata": {
  "kernelspec": {
   "display_name": "Python 3",
   "language": "python",
   "name": "python3"
  },
  "language_info": {
   "codemirror_mode": {
    "name": "ipython",
    "version": 3
   },
   "file_extension": ".py",
   "mimetype": "text/x-python",
   "name": "python",
   "nbconvert_exporter": "python",
   "pygments_lexer": "ipython3",
   "version": "3.6.0"
  }
 },
 "nbformat": 4,
 "nbformat_minor": 2
}
