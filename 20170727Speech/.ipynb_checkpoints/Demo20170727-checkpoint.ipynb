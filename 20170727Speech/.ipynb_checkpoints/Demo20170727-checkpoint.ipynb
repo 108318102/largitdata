{
 "cells": [
  {
   "cell_type": "markdown",
   "metadata": {},
   "source": [
    "## 591 網路爬蟲"
   ]
  },
  {
   "cell_type": "code",
   "execution_count": 6,
   "metadata": {
    "collapsed": false,
    "scrolled": true
   },
   "outputs": [],
   "source": [
    "import requests\n",
    "headers = {\n",
    " 'User-Agent':'Mozilla/5.0 (Windows NT 6.1; Win64; x64) AppleWebKit/537.36 (KHTML, like Gecko) Chrome/59.0.3071.115 Safari/537.36'   \n",
    "}\n",
    "res = requests.get('https://rent.591.com.tw/home/search/rsList?is_new_list=1&type=1&kind=1&searchtype=1&region=1&section=5', headers = headers)\n",
    "jd = res.json()"
   ]
  },
  {
   "cell_type": "markdown",
   "metadata": {},
   "source": [
    "## 使用Pandas 整理資料"
   ]
  },
  {
   "cell_type": "code",
   "execution_count": 11,
   "metadata": {
    "collapsed": false
   },
   "outputs": [
    {
     "data": {
      "text/html": [
       "<div>\n",
       "<table border=\"1\" class=\"dataframe\">\n",
       "  <thead>\n",
       "    <tr style=\"text-align: right;\">\n",
       "      <th></th>\n",
       "      <th>addInfo</th>\n",
       "      <th>addition2</th>\n",
       "      <th>addition3</th>\n",
       "      <th>addition4</th>\n",
       "      <th>addr_number_name</th>\n",
       "      <th>address</th>\n",
       "      <th>address_img</th>\n",
       "      <th>address_img_title</th>\n",
       "      <th>alley_name</th>\n",
       "      <th>allfloor</th>\n",
       "      <th>...</th>\n",
       "      <th>storeprice</th>\n",
       "      <th>street_name</th>\n",
       "      <th>streetid</th>\n",
       "      <th>type</th>\n",
       "      <th>unit</th>\n",
       "      <th>updatetime</th>\n",
       "      <th>user_id</th>\n",
       "      <th>vipBorder</th>\n",
       "      <th>vipimg</th>\n",
       "      <th>vipstyle</th>\n",
       "    </tr>\n",
       "  </thead>\n",
       "  <tbody>\n",
       "    <tr>\n",
       "      <th>0</th>\n",
       "      <td></td>\n",
       "      <td>0</td>\n",
       "      <td>0</td>\n",
       "      <td>1</td>\n",
       "      <td></td>\n",
       "      <td>復興南路一段市民大..</td>\n",
       "      <td>市民大道微風SOGO忠孝東路</td>\n",
       "      <td>市民大道微風SOGO忠孝東路</td>\n",
       "      <td></td>\n",
       "      <td>7</td>\n",
       "      <td>...</td>\n",
       "      <td>0</td>\n",
       "      <td>復興南路一段</td>\n",
       "      <td>25660</td>\n",
       "      <td>1</td>\n",
       "      <td>元/月</td>\n",
       "      <td>1500973928</td>\n",
       "      <td>2099380</td>\n",
       "      <td>vipStyle</td>\n",
       "      <td></td>\n",
       "      <td>isvip</td>\n",
       "    </tr>\n",
       "    <tr>\n",
       "      <th>1</th>\n",
       "      <td></td>\n",
       "      <td>0</td>\n",
       "      <td>0</td>\n",
       "      <td>1</td>\n",
       "      <td></td>\n",
       "      <td>仁愛路三段123巷仁..</td>\n",
       "      <td>仁愛復興南路忠孝SOGO</td>\n",
       "      <td>仁愛復興南路忠孝SOGO</td>\n",
       "      <td>123巷</td>\n",
       "      <td>7</td>\n",
       "      <td>...</td>\n",
       "      <td>0</td>\n",
       "      <td>仁愛路三段</td>\n",
       "      <td>25616</td>\n",
       "      <td>1</td>\n",
       "      <td>元/月</td>\n",
       "      <td>1500972331</td>\n",
       "      <td>2099380</td>\n",
       "      <td>vipStyle</td>\n",
       "      <td></td>\n",
       "      <td>isvip</td>\n",
       "    </tr>\n",
       "    <tr>\n",
       "      <th>2</th>\n",
       "      <td></td>\n",
       "      <td>0</td>\n",
       "      <td>0</td>\n",
       "      <td>1</td>\n",
       "      <td></td>\n",
       "      <td>樂業街2房1廳基隆路二段..</td>\n",
       "      <td>2房1廳基隆路二段六张犁站民生國小遼寧夜</td>\n",
       "      <td>2房1廳基隆路二段六张犁站民生國小遼寧夜</td>\n",
       "      <td></td>\n",
       "      <td>4</td>\n",
       "      <td>...</td>\n",
       "      <td>0</td>\n",
       "      <td>樂業街</td>\n",
       "      <td>25674</td>\n",
       "      <td>1</td>\n",
       "      <td>元/月</td>\n",
       "      <td>1501133737</td>\n",
       "      <td>2099368</td>\n",
       "      <td>vipStyle</td>\n",
       "      <td></td>\n",
       "      <td>isvip</td>\n",
       "    </tr>\n",
       "    <tr>\n",
       "      <th>3</th>\n",
       "      <td></td>\n",
       "      <td>0</td>\n",
       "      <td>0</td>\n",
       "      <td>1</td>\n",
       "      <td></td>\n",
       "      <td>四維路52巷大安捷運300公..</td>\n",
       "      <td>大安捷運300公尺全新飯店裝潢2房1廳</td>\n",
       "      <td>大安捷運300公尺全新飯店裝潢2房1廳</td>\n",
       "      <td>52巷</td>\n",
       "      <td>5</td>\n",
       "      <td>...</td>\n",
       "      <td>0</td>\n",
       "      <td>四維路</td>\n",
       "      <td>25619</td>\n",
       "      <td>1</td>\n",
       "      <td>元/月</td>\n",
       "      <td>1500189761</td>\n",
       "      <td>289326</td>\n",
       "      <td>vipStyle</td>\n",
       "      <td></td>\n",
       "      <td>isvip</td>\n",
       "    </tr>\n",
       "    <tr>\n",
       "      <th>4</th>\n",
       "      <td></td>\n",
       "      <td>0</td>\n",
       "      <td>0</td>\n",
       "      <td>1</td>\n",
       "      <td></td>\n",
       "      <td>和平東路二段復興南..</td>\n",
       "      <td>復興南建國科技大樓大安森公園</td>\n",
       "      <td>復興南建國科技大樓大安森公園</td>\n",
       "      <td></td>\n",
       "      <td>4</td>\n",
       "      <td>...</td>\n",
       "      <td>0</td>\n",
       "      <td>和平東路二段</td>\n",
       "      <td>25633</td>\n",
       "      <td>1</td>\n",
       "      <td>元/月</td>\n",
       "      <td>1498551482</td>\n",
       "      <td>2099380</td>\n",
       "      <td>vipStyle</td>\n",
       "      <td></td>\n",
       "      <td>isvip</td>\n",
       "    </tr>\n",
       "  </tbody>\n",
       "</table>\n",
       "<p>5 rows × 88 columns</p>\n",
       "</div>"
      ],
      "text/plain": [
       "  addInfo  addition2  addition3  addition4 addr_number_name           address  \\\n",
       "0                  0          0          1                        復興南路一段市民大..   \n",
       "1                  0          0          1                       仁愛路三段123巷仁..   \n",
       "2                  0          0          1                     樂業街2房1廳基隆路二段..   \n",
       "3                  0          0          1                   四維路52巷大安捷運300公..   \n",
       "4                  0          0          1                        和平東路二段復興南..   \n",
       "\n",
       "            address_img     address_img_title alley_name  allfloor    ...     \\\n",
       "0        市民大道微風SOGO忠孝東路        市民大道微風SOGO忠孝東路                    7    ...      \n",
       "1          仁愛復興南路忠孝SOGO          仁愛復興南路忠孝SOGO       123巷         7    ...      \n",
       "2  2房1廳基隆路二段六张犁站民生國小遼寧夜  2房1廳基隆路二段六张犁站民生國小遼寧夜                    4    ...      \n",
       "3   大安捷運300公尺全新飯店裝潢2房1廳   大安捷運300公尺全新飯店裝潢2房1廳        52巷         5    ...      \n",
       "4        復興南建國科技大樓大安森公園        復興南建國科技大樓大安森公園                    4    ...      \n",
       "\n",
       "  storeprice  street_name streetid  type  unit  updatetime  user_id  \\\n",
       "0          0       復興南路一段    25660     1   元/月  1500973928  2099380   \n",
       "1          0        仁愛路三段    25616     1   元/月  1500972331  2099380   \n",
       "2          0          樂業街    25674     1   元/月  1501133737  2099368   \n",
       "3          0          四維路    25619     1   元/月  1500189761   289326   \n",
       "4          0       和平東路二段    25633     1   元/月  1498551482  2099380   \n",
       "\n",
       "   vipBorder vipimg  vipstyle  \n",
       "0   vipStyle            isvip  \n",
       "1   vipStyle            isvip  \n",
       "2   vipStyle            isvip  \n",
       "3   vipStyle            isvip  \n",
       "4   vipStyle            isvip  \n",
       "\n",
       "[5 rows x 88 columns]"
      ]
     },
     "execution_count": 11,
     "metadata": {},
     "output_type": "execute_result"
    }
   ],
   "source": [
    "import pandas\n",
    "df = pandas.DataFrame(jd['data']['data'])\n",
    "df.head()"
   ]
  },
  {
   "cell_type": "markdown",
   "metadata": {},
   "source": [
    "## 使用pandas 清理資料"
   ]
  },
  {
   "cell_type": "code",
   "execution_count": 13,
   "metadata": {
    "collapsed": false
   },
   "outputs": [
    {
     "data": {
      "text/html": [
       "<div>\n",
       "<table border=\"1\" class=\"dataframe\">\n",
       "  <thead>\n",
       "    <tr style=\"text-align: right;\">\n",
       "      <th></th>\n",
       "      <th>address</th>\n",
       "      <th>floor</th>\n",
       "      <th>allfloor</th>\n",
       "      <th>layout</th>\n",
       "      <th>area</th>\n",
       "      <th>price</th>\n",
       "      <th>browsenum_all</th>\n",
       "    </tr>\n",
       "  </thead>\n",
       "  <tbody>\n",
       "    <tr>\n",
       "      <th>0</th>\n",
       "      <td>復興南路一段市民大..</td>\n",
       "      <td>4</td>\n",
       "      <td>7</td>\n",
       "      <td>2房1廳1衛</td>\n",
       "      <td>20.0</td>\n",
       "      <td>32,002</td>\n",
       "      <td>308</td>\n",
       "    </tr>\n",
       "    <tr>\n",
       "      <th>1</th>\n",
       "      <td>仁愛路三段123巷仁..</td>\n",
       "      <td>5</td>\n",
       "      <td>7</td>\n",
       "      <td>2房1廳1衛</td>\n",
       "      <td>21.0</td>\n",
       "      <td>29,036</td>\n",
       "      <td>569</td>\n",
       "    </tr>\n",
       "    <tr>\n",
       "      <th>2</th>\n",
       "      <td>樂業街2房1廳基隆路二段..</td>\n",
       "      <td>2</td>\n",
       "      <td>4</td>\n",
       "      <td>2房1廳1衛</td>\n",
       "      <td>20.0</td>\n",
       "      <td>26,006</td>\n",
       "      <td>22</td>\n",
       "    </tr>\n",
       "    <tr>\n",
       "      <th>3</th>\n",
       "      <td>四維路52巷大安捷運300公..</td>\n",
       "      <td>4</td>\n",
       "      <td>5</td>\n",
       "      <td>2房1廳1衛</td>\n",
       "      <td>22.0</td>\n",
       "      <td>34,000</td>\n",
       "      <td>5915</td>\n",
       "    </tr>\n",
       "    <tr>\n",
       "      <th>4</th>\n",
       "      <td>和平東路二段復興南..</td>\n",
       "      <td>2</td>\n",
       "      <td>4</td>\n",
       "      <td>2房1廳1衛</td>\n",
       "      <td>16.0</td>\n",
       "      <td>23,909</td>\n",
       "      <td>9633</td>\n",
       "    </tr>\n",
       "  </tbody>\n",
       "</table>\n",
       "</div>"
      ],
      "text/plain": [
       "            address  floor  allfloor  layout  area   price  browsenum_all\n",
       "0       復興南路一段市民大..      4         7  2房1廳1衛  20.0  32,002            308\n",
       "1      仁愛路三段123巷仁..      5         7  2房1廳1衛  21.0  29,036            569\n",
       "2    樂業街2房1廳基隆路二段..      2         4  2房1廳1衛  20.0  26,006             22\n",
       "3  四維路52巷大安捷運300公..      4         5  2房1廳1衛  22.0  34,000           5915\n",
       "4       和平東路二段復興南..      2         4  2房1廳1衛  16.0  23,909           9633"
      ]
     },
     "execution_count": 13,
     "metadata": {},
     "output_type": "execute_result"
    }
   ],
   "source": [
    "df = df[['address', 'floor', 'allfloor', 'layout', 'area', 'price','browsenum_all']]\n",
    "df.head()"
   ]
  },
  {
   "cell_type": "code",
   "execution_count": 14,
   "metadata": {
    "collapsed": false
   },
   "outputs": [
    {
     "name": "stdout",
     "output_type": "stream",
     "text": [
      "<class 'pandas.core.frame.DataFrame'>\n",
      "RangeIndex: 30 entries, 0 to 29\n",
      "Data columns (total 7 columns):\n",
      "address          30 non-null object\n",
      "floor            30 non-null int64\n",
      "allfloor         30 non-null int64\n",
      "layout           30 non-null object\n",
      "area             30 non-null float64\n",
      "price            30 non-null object\n",
      "browsenum_all    30 non-null int64\n",
      "dtypes: float64(1), int64(3), object(3)\n",
      "memory usage: 1.7+ KB\n"
     ]
    }
   ],
   "source": [
    "df.info()"
   ]
  },
  {
   "cell_type": "code",
   "execution_count": 17,
   "metadata": {
    "collapsed": false
   },
   "outputs": [
    {
     "name": "stderr",
     "output_type": "stream",
     "text": [
      "C:\\ProgramData\\Anaconda3\\lib\\site-packages\\ipykernel\\__main__.py:1: FutureWarning: currently extract(expand=None) means expand=False (return Index/Series/DataFrame) but in a future version of pandas this will be changed to expand=True (return DataFrame)\n",
      "  if __name__ == '__main__':\n"
     ]
    }
   ],
   "source": [
    "df[['layout_bedroom', 'layout_livingroom', 'layout_bathroom']] = df['layout'].str.extract('(\\d+)房(\\d+)廳(\\d+)衛')"
   ]
  },
  {
   "cell_type": "code",
   "execution_count": 22,
   "metadata": {
    "collapsed": false
   },
   "outputs": [],
   "source": [
    "df['price'] = df['price'].map(lambda e : int(''.join(e.split(','))) )"
   ]
  },
  {
   "cell_type": "code",
   "execution_count": 23,
   "metadata": {
    "collapsed": false
   },
   "outputs": [
    {
     "data": {
      "text/html": [
       "<div>\n",
       "<table border=\"1\" class=\"dataframe\">\n",
       "  <thead>\n",
       "    <tr style=\"text-align: right;\">\n",
       "      <th></th>\n",
       "      <th>address</th>\n",
       "      <th>floor</th>\n",
       "      <th>allfloor</th>\n",
       "      <th>layout</th>\n",
       "      <th>area</th>\n",
       "      <th>price</th>\n",
       "      <th>browsenum_all</th>\n",
       "      <th>layout_bedroom</th>\n",
       "      <th>layout_livingroom</th>\n",
       "      <th>layout_bathroom</th>\n",
       "    </tr>\n",
       "  </thead>\n",
       "  <tbody>\n",
       "    <tr>\n",
       "      <th>0</th>\n",
       "      <td>復興南路一段市民大..</td>\n",
       "      <td>4</td>\n",
       "      <td>7</td>\n",
       "      <td>2房1廳1衛</td>\n",
       "      <td>20.0</td>\n",
       "      <td>32002</td>\n",
       "      <td>308</td>\n",
       "      <td>2</td>\n",
       "      <td>1</td>\n",
       "      <td>1</td>\n",
       "    </tr>\n",
       "    <tr>\n",
       "      <th>1</th>\n",
       "      <td>仁愛路三段123巷仁..</td>\n",
       "      <td>5</td>\n",
       "      <td>7</td>\n",
       "      <td>2房1廳1衛</td>\n",
       "      <td>21.0</td>\n",
       "      <td>29036</td>\n",
       "      <td>569</td>\n",
       "      <td>2</td>\n",
       "      <td>1</td>\n",
       "      <td>1</td>\n",
       "    </tr>\n",
       "    <tr>\n",
       "      <th>2</th>\n",
       "      <td>樂業街2房1廳基隆路二段..</td>\n",
       "      <td>2</td>\n",
       "      <td>4</td>\n",
       "      <td>2房1廳1衛</td>\n",
       "      <td>20.0</td>\n",
       "      <td>26006</td>\n",
       "      <td>22</td>\n",
       "      <td>2</td>\n",
       "      <td>1</td>\n",
       "      <td>1</td>\n",
       "    </tr>\n",
       "    <tr>\n",
       "      <th>3</th>\n",
       "      <td>四維路52巷大安捷運300公..</td>\n",
       "      <td>4</td>\n",
       "      <td>5</td>\n",
       "      <td>2房1廳1衛</td>\n",
       "      <td>22.0</td>\n",
       "      <td>34000</td>\n",
       "      <td>5915</td>\n",
       "      <td>2</td>\n",
       "      <td>1</td>\n",
       "      <td>1</td>\n",
       "    </tr>\n",
       "    <tr>\n",
       "      <th>4</th>\n",
       "      <td>和平東路二段復興南..</td>\n",
       "      <td>2</td>\n",
       "      <td>4</td>\n",
       "      <td>2房1廳1衛</td>\n",
       "      <td>16.0</td>\n",
       "      <td>23909</td>\n",
       "      <td>9633</td>\n",
       "      <td>2</td>\n",
       "      <td>1</td>\n",
       "      <td>1</td>\n",
       "    </tr>\n",
       "  </tbody>\n",
       "</table>\n",
       "</div>"
      ],
      "text/plain": [
       "            address  floor  allfloor  layout  area  price  browsenum_all  \\\n",
       "0       復興南路一段市民大..      4         7  2房1廳1衛  20.0  32002            308   \n",
       "1      仁愛路三段123巷仁..      5         7  2房1廳1衛  21.0  29036            569   \n",
       "2    樂業街2房1廳基隆路二段..      2         4  2房1廳1衛  20.0  26006             22   \n",
       "3  四維路52巷大安捷運300公..      4         5  2房1廳1衛  22.0  34000           5915   \n",
       "4       和平東路二段復興南..      2         4  2房1廳1衛  16.0  23909           9633   \n",
       "\n",
       "  layout_bedroom layout_livingroom layout_bathroom  \n",
       "0              2                 1               1  \n",
       "1              2                 1               1  \n",
       "2              2                 1               1  \n",
       "3              2                 1               1  \n",
       "4              2                 1               1  "
      ]
     },
     "execution_count": 23,
     "metadata": {},
     "output_type": "execute_result"
    }
   ],
   "source": [
    "df.head()"
   ]
  },
  {
   "cell_type": "markdown",
   "metadata": {},
   "source": [
    "## 將資料儲存至Excel"
   ]
  },
  {
   "cell_type": "code",
   "execution_count": 24,
   "metadata": {
    "collapsed": true
   },
   "outputs": [],
   "source": [
    "df.to_excel('rent591.xlsx')"
   ]
  },
  {
   "cell_type": "markdown",
   "metadata": {},
   "source": [
    "## 將資料儲存至SQLite"
   ]
  },
  {
   "cell_type": "code",
   "execution_count": 27,
   "metadata": {
    "collapsed": false
   },
   "outputs": [],
   "source": [
    "import sqlite3\n",
    "with sqlite3.connect('renthouse.sqlite') as db:\n",
    "    df.to_sql('renthouse591', con=db)"
   ]
  },
  {
   "cell_type": "markdown",
   "metadata": {},
   "source": [
    "## 從SQLIte 讀取資料"
   ]
  },
  {
   "cell_type": "code",
   "execution_count": 28,
   "metadata": {
    "collapsed": false
   },
   "outputs": [
    {
     "data": {
      "text/html": [
       "<div>\n",
       "<table border=\"1\" class=\"dataframe\">\n",
       "  <thead>\n",
       "    <tr style=\"text-align: right;\">\n",
       "      <th></th>\n",
       "      <th>address</th>\n",
       "      <th>browsenum_all</th>\n",
       "    </tr>\n",
       "  </thead>\n",
       "  <tbody>\n",
       "    <tr>\n",
       "      <th>0</th>\n",
       "      <td>復興南路一段市民大..</td>\n",
       "      <td>308</td>\n",
       "    </tr>\n",
       "    <tr>\n",
       "      <th>1</th>\n",
       "      <td>仁愛路三段123巷仁..</td>\n",
       "      <td>569</td>\n",
       "    </tr>\n",
       "    <tr>\n",
       "      <th>2</th>\n",
       "      <td>樂業街2房1廳基隆路二段..</td>\n",
       "      <td>22</td>\n",
       "    </tr>\n",
       "  </tbody>\n",
       "</table>\n",
       "</div>"
      ],
      "text/plain": [
       "          address  browsenum_all\n",
       "0     復興南路一段市民大..            308\n",
       "1    仁愛路三段123巷仁..            569\n",
       "2  樂業街2房1廳基隆路二段..             22"
      ]
     },
     "execution_count": 28,
     "metadata": {},
     "output_type": "execute_result"
    }
   ],
   "source": [
    "import sqlite3\n",
    "with sqlite3.connect('renthouse.sqlite') as db:\n",
    "    df2 = pandas.read_sql_query('select address, browsenum_all from renthouse591 limit 3', con = db)\n",
    "df2.head()"
   ]
  }
 ],
 "metadata": {
  "kernelspec": {
   "display_name": "Python 3",
   "language": "python",
   "name": "python3"
  },
  "language_info": {
   "codemirror_mode": {
    "name": "ipython",
    "version": 3
   },
   "file_extension": ".py",
   "mimetype": "text/x-python",
   "name": "python",
   "nbconvert_exporter": "python",
   "pygments_lexer": "ipython3",
   "version": "3.6.0"
  }
 },
 "nbformat": 4,
 "nbformat_minor": 2
}
